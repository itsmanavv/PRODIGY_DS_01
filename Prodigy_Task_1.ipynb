{
  "nbformat": 4,
  "nbformat_minor": 0,
  "metadata": {
    "colab": {
      "provenance": []
    },
    "kernelspec": {
      "name": "python3",
      "display_name": "Python 3"
    },
    "language_info": {
      "name": "python"
    }
  },
  "cells": [
    {
      "cell_type": "markdown",
      "source": [
        "**Importing Necessary Libraries**"
      ],
      "metadata": {
        "id": "j-V0Bkuod3Ij"
      }
    },
    {
      "cell_type": "code",
      "source": [
        "import pandas as pd\n",
        "import numpy as np\n",
        "import matplotlib.pyplot as plt\n",
        "import seaborn as sns"
      ],
      "metadata": {
        "id": "THEc6FcTeG9k"
      },
      "execution_count": null,
      "outputs": []
    },
    {
      "cell_type": "markdown",
      "source": [
        "**Reading the Data set**"
      ],
      "metadata": {
        "id": "79_49hV0eM4u"
      }
    },
    {
      "cell_type": "code",
      "source": [
        "df = pd.read_csv(\"worldpopulationdata.csv\")"
      ],
      "metadata": {
        "id": "qPB_f48hfI9q"
      },
      "execution_count": null,
      "outputs": []
    },
    {
      "cell_type": "markdown",
      "source": [
        "**Checking the first 5 rows**"
      ],
      "metadata": {
        "id": "IjDVkfC3fVU8"
      }
    },
    {
      "cell_type": "code",
      "source": [
        "df.head(5)"
      ],
      "metadata": {
        "colab": {
          "base_uri": "https://localhost:8080/",
          "height": 359
        },
        "id": "NnveQdG3faUp",
        "outputId": "c97cdd75-c80c-4884-bd08-effecdc60d88"
      },
      "execution_count": null,
      "outputs": [
        {
          "output_type": "execute_result",
          "data": {
            "text/plain": [
              "         Series Name  Series Code    Country Name Country Code        2022  \\\n",
              "0  Population, total  SP.POP.TOTL     Afghanistan          AFG  41128771.0   \n",
              "1  Population, total  SP.POP.TOTL         Albania          ALB   2775634.0   \n",
              "2  Population, total  SP.POP.TOTL         Algeria          DZA  44903225.0   \n",
              "3  Population, total  SP.POP.TOTL  American Samoa          ASM     44273.0   \n",
              "4  Population, total  SP.POP.TOTL         Andorra          AND     79824.0   \n",
              "\n",
              "         2021        2020        2019        2018        2017  ...  \\\n",
              "0  40099462.0  38972230.0  37769499.0  36686784.0  35643418.0  ...   \n",
              "1   2811666.0   2837849.0   2854191.0   2866376.0   2873457.0  ...   \n",
              "2  44177969.0  43451666.0  42705368.0  41927007.0  41136546.0  ...   \n",
              "3     45035.0     46189.0     47321.0     48424.0     49463.0  ...   \n",
              "4     79034.0     77700.0     76343.0     75013.0     73837.0  ...   \n",
              "\n",
              "         2010        2009        2008        2007        2006        2005  \\\n",
              "0  28189672.0  27385307.0  26427199.0  25903301.0  25442944.0  24411191.0   \n",
              "1   2913021.0   2927519.0   2947314.0   2970017.0   2992547.0   3011487.0   \n",
              "2  35856344.0  35196037.0  34569592.0  33983827.0  33435080.0  32956690.0   \n",
              "3     54849.0     55366.0     55891.0     56383.0     56837.0     57254.0   \n",
              "4     71519.0     73852.0     76055.0     78168.0     80221.0     79826.0   \n",
              "\n",
              "         2004        2003        2002        2001  \n",
              "0  23553551.0  22645130.0  21000256.0  19688632.0  \n",
              "1   3026939.0   3039616.0   3051010.0   3060173.0  \n",
              "2  32510186.0  32055883.0  31624696.0  31200985.0  \n",
              "3     57626.0     57941.0     58177.0     58324.0  \n",
              "4     76933.0     73907.0     70849.0     67820.0  \n",
              "\n",
              "[5 rows x 26 columns]"
            ],
            "text/html": [
              "\n",
              "  <div id=\"df-0c727d36-80b0-4131-b5ed-0289bd38a55d\" class=\"colab-df-container\">\n",
              "    <div>\n",
              "<style scoped>\n",
              "    .dataframe tbody tr th:only-of-type {\n",
              "        vertical-align: middle;\n",
              "    }\n",
              "\n",
              "    .dataframe tbody tr th {\n",
              "        vertical-align: top;\n",
              "    }\n",
              "\n",
              "    .dataframe thead th {\n",
              "        text-align: right;\n",
              "    }\n",
              "</style>\n",
              "<table border=\"1\" class=\"dataframe\">\n",
              "  <thead>\n",
              "    <tr style=\"text-align: right;\">\n",
              "      <th></th>\n",
              "      <th>Series Name</th>\n",
              "      <th>Series Code</th>\n",
              "      <th>Country Name</th>\n",
              "      <th>Country Code</th>\n",
              "      <th>2022</th>\n",
              "      <th>2021</th>\n",
              "      <th>2020</th>\n",
              "      <th>2019</th>\n",
              "      <th>2018</th>\n",
              "      <th>2017</th>\n",
              "      <th>...</th>\n",
              "      <th>2010</th>\n",
              "      <th>2009</th>\n",
              "      <th>2008</th>\n",
              "      <th>2007</th>\n",
              "      <th>2006</th>\n",
              "      <th>2005</th>\n",
              "      <th>2004</th>\n",
              "      <th>2003</th>\n",
              "      <th>2002</th>\n",
              "      <th>2001</th>\n",
              "    </tr>\n",
              "  </thead>\n",
              "  <tbody>\n",
              "    <tr>\n",
              "      <th>0</th>\n",
              "      <td>Population, total</td>\n",
              "      <td>SP.POP.TOTL</td>\n",
              "      <td>Afghanistan</td>\n",
              "      <td>AFG</td>\n",
              "      <td>41128771.0</td>\n",
              "      <td>40099462.0</td>\n",
              "      <td>38972230.0</td>\n",
              "      <td>37769499.0</td>\n",
              "      <td>36686784.0</td>\n",
              "      <td>35643418.0</td>\n",
              "      <td>...</td>\n",
              "      <td>28189672.0</td>\n",
              "      <td>27385307.0</td>\n",
              "      <td>26427199.0</td>\n",
              "      <td>25903301.0</td>\n",
              "      <td>25442944.0</td>\n",
              "      <td>24411191.0</td>\n",
              "      <td>23553551.0</td>\n",
              "      <td>22645130.0</td>\n",
              "      <td>21000256.0</td>\n",
              "      <td>19688632.0</td>\n",
              "    </tr>\n",
              "    <tr>\n",
              "      <th>1</th>\n",
              "      <td>Population, total</td>\n",
              "      <td>SP.POP.TOTL</td>\n",
              "      <td>Albania</td>\n",
              "      <td>ALB</td>\n",
              "      <td>2775634.0</td>\n",
              "      <td>2811666.0</td>\n",
              "      <td>2837849.0</td>\n",
              "      <td>2854191.0</td>\n",
              "      <td>2866376.0</td>\n",
              "      <td>2873457.0</td>\n",
              "      <td>...</td>\n",
              "      <td>2913021.0</td>\n",
              "      <td>2927519.0</td>\n",
              "      <td>2947314.0</td>\n",
              "      <td>2970017.0</td>\n",
              "      <td>2992547.0</td>\n",
              "      <td>3011487.0</td>\n",
              "      <td>3026939.0</td>\n",
              "      <td>3039616.0</td>\n",
              "      <td>3051010.0</td>\n",
              "      <td>3060173.0</td>\n",
              "    </tr>\n",
              "    <tr>\n",
              "      <th>2</th>\n",
              "      <td>Population, total</td>\n",
              "      <td>SP.POP.TOTL</td>\n",
              "      <td>Algeria</td>\n",
              "      <td>DZA</td>\n",
              "      <td>44903225.0</td>\n",
              "      <td>44177969.0</td>\n",
              "      <td>43451666.0</td>\n",
              "      <td>42705368.0</td>\n",
              "      <td>41927007.0</td>\n",
              "      <td>41136546.0</td>\n",
              "      <td>...</td>\n",
              "      <td>35856344.0</td>\n",
              "      <td>35196037.0</td>\n",
              "      <td>34569592.0</td>\n",
              "      <td>33983827.0</td>\n",
              "      <td>33435080.0</td>\n",
              "      <td>32956690.0</td>\n",
              "      <td>32510186.0</td>\n",
              "      <td>32055883.0</td>\n",
              "      <td>31624696.0</td>\n",
              "      <td>31200985.0</td>\n",
              "    </tr>\n",
              "    <tr>\n",
              "      <th>3</th>\n",
              "      <td>Population, total</td>\n",
              "      <td>SP.POP.TOTL</td>\n",
              "      <td>American Samoa</td>\n",
              "      <td>ASM</td>\n",
              "      <td>44273.0</td>\n",
              "      <td>45035.0</td>\n",
              "      <td>46189.0</td>\n",
              "      <td>47321.0</td>\n",
              "      <td>48424.0</td>\n",
              "      <td>49463.0</td>\n",
              "      <td>...</td>\n",
              "      <td>54849.0</td>\n",
              "      <td>55366.0</td>\n",
              "      <td>55891.0</td>\n",
              "      <td>56383.0</td>\n",
              "      <td>56837.0</td>\n",
              "      <td>57254.0</td>\n",
              "      <td>57626.0</td>\n",
              "      <td>57941.0</td>\n",
              "      <td>58177.0</td>\n",
              "      <td>58324.0</td>\n",
              "    </tr>\n",
              "    <tr>\n",
              "      <th>4</th>\n",
              "      <td>Population, total</td>\n",
              "      <td>SP.POP.TOTL</td>\n",
              "      <td>Andorra</td>\n",
              "      <td>AND</td>\n",
              "      <td>79824.0</td>\n",
              "      <td>79034.0</td>\n",
              "      <td>77700.0</td>\n",
              "      <td>76343.0</td>\n",
              "      <td>75013.0</td>\n",
              "      <td>73837.0</td>\n",
              "      <td>...</td>\n",
              "      <td>71519.0</td>\n",
              "      <td>73852.0</td>\n",
              "      <td>76055.0</td>\n",
              "      <td>78168.0</td>\n",
              "      <td>80221.0</td>\n",
              "      <td>79826.0</td>\n",
              "      <td>76933.0</td>\n",
              "      <td>73907.0</td>\n",
              "      <td>70849.0</td>\n",
              "      <td>67820.0</td>\n",
              "    </tr>\n",
              "  </tbody>\n",
              "</table>\n",
              "<p>5 rows × 26 columns</p>\n",
              "</div>\n",
              "    <div class=\"colab-df-buttons\">\n",
              "\n",
              "  <div class=\"colab-df-container\">\n",
              "    <button class=\"colab-df-convert\" onclick=\"convertToInteractive('df-0c727d36-80b0-4131-b5ed-0289bd38a55d')\"\n",
              "            title=\"Convert this dataframe to an interactive table.\"\n",
              "            style=\"display:none;\">\n",
              "\n",
              "  <svg xmlns=\"http://www.w3.org/2000/svg\" height=\"24px\" viewBox=\"0 -960 960 960\">\n",
              "    <path d=\"M120-120v-720h720v720H120Zm60-500h600v-160H180v160Zm220 220h160v-160H400v160Zm0 220h160v-160H400v160ZM180-400h160v-160H180v160Zm440 0h160v-160H620v160ZM180-180h160v-160H180v160Zm440 0h160v-160H620v160Z\"/>\n",
              "  </svg>\n",
              "    </button>\n",
              "\n",
              "  <style>\n",
              "    .colab-df-container {\n",
              "      display:flex;\n",
              "      gap: 12px;\n",
              "    }\n",
              "\n",
              "    .colab-df-convert {\n",
              "      background-color: #E8F0FE;\n",
              "      border: none;\n",
              "      border-radius: 50%;\n",
              "      cursor: pointer;\n",
              "      display: none;\n",
              "      fill: #1967D2;\n",
              "      height: 32px;\n",
              "      padding: 0 0 0 0;\n",
              "      width: 32px;\n",
              "    }\n",
              "\n",
              "    .colab-df-convert:hover {\n",
              "      background-color: #E2EBFA;\n",
              "      box-shadow: 0px 1px 2px rgba(60, 64, 67, 0.3), 0px 1px 3px 1px rgba(60, 64, 67, 0.15);\n",
              "      fill: #174EA6;\n",
              "    }\n",
              "\n",
              "    .colab-df-buttons div {\n",
              "      margin-bottom: 4px;\n",
              "    }\n",
              "\n",
              "    [theme=dark] .colab-df-convert {\n",
              "      background-color: #3B4455;\n",
              "      fill: #D2E3FC;\n",
              "    }\n",
              "\n",
              "    [theme=dark] .colab-df-convert:hover {\n",
              "      background-color: #434B5C;\n",
              "      box-shadow: 0px 1px 3px 1px rgba(0, 0, 0, 0.15);\n",
              "      filter: drop-shadow(0px 1px 2px rgba(0, 0, 0, 0.3));\n",
              "      fill: #FFFFFF;\n",
              "    }\n",
              "  </style>\n",
              "\n",
              "    <script>\n",
              "      const buttonEl =\n",
              "        document.querySelector('#df-0c727d36-80b0-4131-b5ed-0289bd38a55d button.colab-df-convert');\n",
              "      buttonEl.style.display =\n",
              "        google.colab.kernel.accessAllowed ? 'block' : 'none';\n",
              "\n",
              "      async function convertToInteractive(key) {\n",
              "        const element = document.querySelector('#df-0c727d36-80b0-4131-b5ed-0289bd38a55d');\n",
              "        const dataTable =\n",
              "          await google.colab.kernel.invokeFunction('convertToInteractive',\n",
              "                                                    [key], {});\n",
              "        if (!dataTable) return;\n",
              "\n",
              "        const docLinkHtml = 'Like what you see? Visit the ' +\n",
              "          '<a target=\"_blank\" href=https://colab.research.google.com/notebooks/data_table.ipynb>data table notebook</a>'\n",
              "          + ' to learn more about interactive tables.';\n",
              "        element.innerHTML = '';\n",
              "        dataTable['output_type'] = 'display_data';\n",
              "        await google.colab.output.renderOutput(dataTable, element);\n",
              "        const docLink = document.createElement('div');\n",
              "        docLink.innerHTML = docLinkHtml;\n",
              "        element.appendChild(docLink);\n",
              "      }\n",
              "    </script>\n",
              "  </div>\n",
              "\n",
              "\n",
              "<div id=\"df-5412f4cc-dfca-4b3c-8c7b-5f021a4bf264\">\n",
              "  <button class=\"colab-df-quickchart\" onclick=\"quickchart('df-5412f4cc-dfca-4b3c-8c7b-5f021a4bf264')\"\n",
              "            title=\"Suggest charts\"\n",
              "            style=\"display:none;\">\n",
              "\n",
              "<svg xmlns=\"http://www.w3.org/2000/svg\" height=\"24px\"viewBox=\"0 0 24 24\"\n",
              "     width=\"24px\">\n",
              "    <g>\n",
              "        <path d=\"M19 3H5c-1.1 0-2 .9-2 2v14c0 1.1.9 2 2 2h14c1.1 0 2-.9 2-2V5c0-1.1-.9-2-2-2zM9 17H7v-7h2v7zm4 0h-2V7h2v10zm4 0h-2v-4h2v4z\"/>\n",
              "    </g>\n",
              "</svg>\n",
              "  </button>\n",
              "\n",
              "<style>\n",
              "  .colab-df-quickchart {\n",
              "      --bg-color: #E8F0FE;\n",
              "      --fill-color: #1967D2;\n",
              "      --hover-bg-color: #E2EBFA;\n",
              "      --hover-fill-color: #174EA6;\n",
              "      --disabled-fill-color: #AAA;\n",
              "      --disabled-bg-color: #DDD;\n",
              "  }\n",
              "\n",
              "  [theme=dark] .colab-df-quickchart {\n",
              "      --bg-color: #3B4455;\n",
              "      --fill-color: #D2E3FC;\n",
              "      --hover-bg-color: #434B5C;\n",
              "      --hover-fill-color: #FFFFFF;\n",
              "      --disabled-bg-color: #3B4455;\n",
              "      --disabled-fill-color: #666;\n",
              "  }\n",
              "\n",
              "  .colab-df-quickchart {\n",
              "    background-color: var(--bg-color);\n",
              "    border: none;\n",
              "    border-radius: 50%;\n",
              "    cursor: pointer;\n",
              "    display: none;\n",
              "    fill: var(--fill-color);\n",
              "    height: 32px;\n",
              "    padding: 0;\n",
              "    width: 32px;\n",
              "  }\n",
              "\n",
              "  .colab-df-quickchart:hover {\n",
              "    background-color: var(--hover-bg-color);\n",
              "    box-shadow: 0 1px 2px rgba(60, 64, 67, 0.3), 0 1px 3px 1px rgba(60, 64, 67, 0.15);\n",
              "    fill: var(--button-hover-fill-color);\n",
              "  }\n",
              "\n",
              "  .colab-df-quickchart-complete:disabled,\n",
              "  .colab-df-quickchart-complete:disabled:hover {\n",
              "    background-color: var(--disabled-bg-color);\n",
              "    fill: var(--disabled-fill-color);\n",
              "    box-shadow: none;\n",
              "  }\n",
              "\n",
              "  .colab-df-spinner {\n",
              "    border: 2px solid var(--fill-color);\n",
              "    border-color: transparent;\n",
              "    border-bottom-color: var(--fill-color);\n",
              "    animation:\n",
              "      spin 1s steps(1) infinite;\n",
              "  }\n",
              "\n",
              "  @keyframes spin {\n",
              "    0% {\n",
              "      border-color: transparent;\n",
              "      border-bottom-color: var(--fill-color);\n",
              "      border-left-color: var(--fill-color);\n",
              "    }\n",
              "    20% {\n",
              "      border-color: transparent;\n",
              "      border-left-color: var(--fill-color);\n",
              "      border-top-color: var(--fill-color);\n",
              "    }\n",
              "    30% {\n",
              "      border-color: transparent;\n",
              "      border-left-color: var(--fill-color);\n",
              "      border-top-color: var(--fill-color);\n",
              "      border-right-color: var(--fill-color);\n",
              "    }\n",
              "    40% {\n",
              "      border-color: transparent;\n",
              "      border-right-color: var(--fill-color);\n",
              "      border-top-color: var(--fill-color);\n",
              "    }\n",
              "    60% {\n",
              "      border-color: transparent;\n",
              "      border-right-color: var(--fill-color);\n",
              "    }\n",
              "    80% {\n",
              "      border-color: transparent;\n",
              "      border-right-color: var(--fill-color);\n",
              "      border-bottom-color: var(--fill-color);\n",
              "    }\n",
              "    90% {\n",
              "      border-color: transparent;\n",
              "      border-bottom-color: var(--fill-color);\n",
              "    }\n",
              "  }\n",
              "</style>\n",
              "\n",
              "  <script>\n",
              "    async function quickchart(key) {\n",
              "      const quickchartButtonEl =\n",
              "        document.querySelector('#' + key + ' button');\n",
              "      quickchartButtonEl.disabled = true;  // To prevent multiple clicks.\n",
              "      quickchartButtonEl.classList.add('colab-df-spinner');\n",
              "      try {\n",
              "        const charts = await google.colab.kernel.invokeFunction(\n",
              "            'suggestCharts', [key], {});\n",
              "      } catch (error) {\n",
              "        console.error('Error during call to suggestCharts:', error);\n",
              "      }\n",
              "      quickchartButtonEl.classList.remove('colab-df-spinner');\n",
              "      quickchartButtonEl.classList.add('colab-df-quickchart-complete');\n",
              "    }\n",
              "    (() => {\n",
              "      let quickchartButtonEl =\n",
              "        document.querySelector('#df-5412f4cc-dfca-4b3c-8c7b-5f021a4bf264 button');\n",
              "      quickchartButtonEl.style.display =\n",
              "        google.colab.kernel.accessAllowed ? 'block' : 'none';\n",
              "    })();\n",
              "  </script>\n",
              "</div>\n",
              "\n",
              "    </div>\n",
              "  </div>\n"
            ],
            "application/vnd.google.colaboratory.intrinsic+json": {
              "type": "dataframe",
              "variable_name": "df"
            }
          },
          "metadata": {},
          "execution_count": 5
        }
      ]
    },
    {
      "cell_type": "markdown",
      "source": [
        "**Checking the last 5 rows**"
      ],
      "metadata": {
        "id": "GfLCuPfcfhJj"
      }
    },
    {
      "cell_type": "code",
      "source": [
        "df.tail(5)"
      ],
      "metadata": {
        "colab": {
          "base_uri": "https://localhost:8080/",
          "height": 533
        },
        "id": "Z2kjm9XMfmwC",
        "outputId": "227c0be8-b999-41ac-c87d-508250321d56"
      },
      "execution_count": null,
      "outputs": [
        {
          "output_type": "execute_result",
          "data": {
            "text/plain": [
              "                                   Series Name        Series Code  \\\n",
              "1080  Population, male (% of total population)  SP.POP.TOTL.MA.ZS   \n",
              "1081  Population, male (% of total population)  SP.POP.TOTL.MA.ZS   \n",
              "1082  Population, male (% of total population)  SP.POP.TOTL.MA.ZS   \n",
              "1083  Population, male (% of total population)  SP.POP.TOTL.MA.ZS   \n",
              "1084  Population, male (% of total population)  SP.POP.TOTL.MA.ZS   \n",
              "\n",
              "               Country Name Country Code       2022       2021       2020  \\\n",
              "1080  Virgin Islands (U.S.)          VIR  46.613382  46.764444  46.914637   \n",
              "1081     West Bank and Gaza          PSE  49.893678  49.877839  49.858957   \n",
              "1082            Yemen, Rep.          YEM  50.519031  50.538516  50.554317   \n",
              "1083                 Zambia          ZMB  49.344602  49.344951  49.338301   \n",
              "1084               Zimbabwe          ZWE  47.214139  47.167153  47.130679   \n",
              "\n",
              "           2019       2018       2017  ...       2010       2009       2008  \\\n",
              "1080  47.057307  47.185912  47.314214  ...  47.801059  47.834540  47.870063   \n",
              "1081  49.835542  49.811374  49.785969  ...  49.876336  49.898677  49.921445   \n",
              "1082  50.571320  50.596614  50.616964  ...  50.594170  50.582692  50.568876   \n",
              "1083  49.326233  49.309087  49.288400  ...  49.056379  48.981404  48.888443   \n",
              "1084  47.099796  47.076238  47.051613  ...  46.995893  47.049546  47.106068   \n",
              "\n",
              "           2007       2006       2005       2004       2003       2002  \\\n",
              "1080  47.877604  47.870702  47.852669  47.825150  47.789128  47.754932   \n",
              "1081  49.947631  49.983323  50.028649  50.089953  50.167544  50.248196   \n",
              "1082  50.553633  50.539012  50.522514  50.502720  50.481666  50.459941   \n",
              "1083  48.784780  48.676944  48.571398  48.476900  48.393634  48.313646   \n",
              "1084  47.166435  47.190963  47.231433  47.324096  47.387633  47.428426   \n",
              "\n",
              "           2001  \n",
              "1080  47.725126  \n",
              "1081  50.321633  \n",
              "1082  50.437238  \n",
              "1083  48.229968  \n",
              "1084  47.460469  \n",
              "\n",
              "[5 rows x 26 columns]"
            ],
            "text/html": [
              "\n",
              "  <div id=\"df-c5ab4510-a1ae-40de-a197-b77005087a39\" class=\"colab-df-container\">\n",
              "    <div>\n",
              "<style scoped>\n",
              "    .dataframe tbody tr th:only-of-type {\n",
              "        vertical-align: middle;\n",
              "    }\n",
              "\n",
              "    .dataframe tbody tr th {\n",
              "        vertical-align: top;\n",
              "    }\n",
              "\n",
              "    .dataframe thead th {\n",
              "        text-align: right;\n",
              "    }\n",
              "</style>\n",
              "<table border=\"1\" class=\"dataframe\">\n",
              "  <thead>\n",
              "    <tr style=\"text-align: right;\">\n",
              "      <th></th>\n",
              "      <th>Series Name</th>\n",
              "      <th>Series Code</th>\n",
              "      <th>Country Name</th>\n",
              "      <th>Country Code</th>\n",
              "      <th>2022</th>\n",
              "      <th>2021</th>\n",
              "      <th>2020</th>\n",
              "      <th>2019</th>\n",
              "      <th>2018</th>\n",
              "      <th>2017</th>\n",
              "      <th>...</th>\n",
              "      <th>2010</th>\n",
              "      <th>2009</th>\n",
              "      <th>2008</th>\n",
              "      <th>2007</th>\n",
              "      <th>2006</th>\n",
              "      <th>2005</th>\n",
              "      <th>2004</th>\n",
              "      <th>2003</th>\n",
              "      <th>2002</th>\n",
              "      <th>2001</th>\n",
              "    </tr>\n",
              "  </thead>\n",
              "  <tbody>\n",
              "    <tr>\n",
              "      <th>1080</th>\n",
              "      <td>Population, male (% of total population)</td>\n",
              "      <td>SP.POP.TOTL.MA.ZS</td>\n",
              "      <td>Virgin Islands (U.S.)</td>\n",
              "      <td>VIR</td>\n",
              "      <td>46.613382</td>\n",
              "      <td>46.764444</td>\n",
              "      <td>46.914637</td>\n",
              "      <td>47.057307</td>\n",
              "      <td>47.185912</td>\n",
              "      <td>47.314214</td>\n",
              "      <td>...</td>\n",
              "      <td>47.801059</td>\n",
              "      <td>47.834540</td>\n",
              "      <td>47.870063</td>\n",
              "      <td>47.877604</td>\n",
              "      <td>47.870702</td>\n",
              "      <td>47.852669</td>\n",
              "      <td>47.825150</td>\n",
              "      <td>47.789128</td>\n",
              "      <td>47.754932</td>\n",
              "      <td>47.725126</td>\n",
              "    </tr>\n",
              "    <tr>\n",
              "      <th>1081</th>\n",
              "      <td>Population, male (% of total population)</td>\n",
              "      <td>SP.POP.TOTL.MA.ZS</td>\n",
              "      <td>West Bank and Gaza</td>\n",
              "      <td>PSE</td>\n",
              "      <td>49.893678</td>\n",
              "      <td>49.877839</td>\n",
              "      <td>49.858957</td>\n",
              "      <td>49.835542</td>\n",
              "      <td>49.811374</td>\n",
              "      <td>49.785969</td>\n",
              "      <td>...</td>\n",
              "      <td>49.876336</td>\n",
              "      <td>49.898677</td>\n",
              "      <td>49.921445</td>\n",
              "      <td>49.947631</td>\n",
              "      <td>49.983323</td>\n",
              "      <td>50.028649</td>\n",
              "      <td>50.089953</td>\n",
              "      <td>50.167544</td>\n",
              "      <td>50.248196</td>\n",
              "      <td>50.321633</td>\n",
              "    </tr>\n",
              "    <tr>\n",
              "      <th>1082</th>\n",
              "      <td>Population, male (% of total population)</td>\n",
              "      <td>SP.POP.TOTL.MA.ZS</td>\n",
              "      <td>Yemen, Rep.</td>\n",
              "      <td>YEM</td>\n",
              "      <td>50.519031</td>\n",
              "      <td>50.538516</td>\n",
              "      <td>50.554317</td>\n",
              "      <td>50.571320</td>\n",
              "      <td>50.596614</td>\n",
              "      <td>50.616964</td>\n",
              "      <td>...</td>\n",
              "      <td>50.594170</td>\n",
              "      <td>50.582692</td>\n",
              "      <td>50.568876</td>\n",
              "      <td>50.553633</td>\n",
              "      <td>50.539012</td>\n",
              "      <td>50.522514</td>\n",
              "      <td>50.502720</td>\n",
              "      <td>50.481666</td>\n",
              "      <td>50.459941</td>\n",
              "      <td>50.437238</td>\n",
              "    </tr>\n",
              "    <tr>\n",
              "      <th>1083</th>\n",
              "      <td>Population, male (% of total population)</td>\n",
              "      <td>SP.POP.TOTL.MA.ZS</td>\n",
              "      <td>Zambia</td>\n",
              "      <td>ZMB</td>\n",
              "      <td>49.344602</td>\n",
              "      <td>49.344951</td>\n",
              "      <td>49.338301</td>\n",
              "      <td>49.326233</td>\n",
              "      <td>49.309087</td>\n",
              "      <td>49.288400</td>\n",
              "      <td>...</td>\n",
              "      <td>49.056379</td>\n",
              "      <td>48.981404</td>\n",
              "      <td>48.888443</td>\n",
              "      <td>48.784780</td>\n",
              "      <td>48.676944</td>\n",
              "      <td>48.571398</td>\n",
              "      <td>48.476900</td>\n",
              "      <td>48.393634</td>\n",
              "      <td>48.313646</td>\n",
              "      <td>48.229968</td>\n",
              "    </tr>\n",
              "    <tr>\n",
              "      <th>1084</th>\n",
              "      <td>Population, male (% of total population)</td>\n",
              "      <td>SP.POP.TOTL.MA.ZS</td>\n",
              "      <td>Zimbabwe</td>\n",
              "      <td>ZWE</td>\n",
              "      <td>47.214139</td>\n",
              "      <td>47.167153</td>\n",
              "      <td>47.130679</td>\n",
              "      <td>47.099796</td>\n",
              "      <td>47.076238</td>\n",
              "      <td>47.051613</td>\n",
              "      <td>...</td>\n",
              "      <td>46.995893</td>\n",
              "      <td>47.049546</td>\n",
              "      <td>47.106068</td>\n",
              "      <td>47.166435</td>\n",
              "      <td>47.190963</td>\n",
              "      <td>47.231433</td>\n",
              "      <td>47.324096</td>\n",
              "      <td>47.387633</td>\n",
              "      <td>47.428426</td>\n",
              "      <td>47.460469</td>\n",
              "    </tr>\n",
              "  </tbody>\n",
              "</table>\n",
              "<p>5 rows × 26 columns</p>\n",
              "</div>\n",
              "    <div class=\"colab-df-buttons\">\n",
              "\n",
              "  <div class=\"colab-df-container\">\n",
              "    <button class=\"colab-df-convert\" onclick=\"convertToInteractive('df-c5ab4510-a1ae-40de-a197-b77005087a39')\"\n",
              "            title=\"Convert this dataframe to an interactive table.\"\n",
              "            style=\"display:none;\">\n",
              "\n",
              "  <svg xmlns=\"http://www.w3.org/2000/svg\" height=\"24px\" viewBox=\"0 -960 960 960\">\n",
              "    <path d=\"M120-120v-720h720v720H120Zm60-500h600v-160H180v160Zm220 220h160v-160H400v160Zm0 220h160v-160H400v160ZM180-400h160v-160H180v160Zm440 0h160v-160H620v160ZM180-180h160v-160H180v160Zm440 0h160v-160H620v160Z\"/>\n",
              "  </svg>\n",
              "    </button>\n",
              "\n",
              "  <style>\n",
              "    .colab-df-container {\n",
              "      display:flex;\n",
              "      gap: 12px;\n",
              "    }\n",
              "\n",
              "    .colab-df-convert {\n",
              "      background-color: #E8F0FE;\n",
              "      border: none;\n",
              "      border-radius: 50%;\n",
              "      cursor: pointer;\n",
              "      display: none;\n",
              "      fill: #1967D2;\n",
              "      height: 32px;\n",
              "      padding: 0 0 0 0;\n",
              "      width: 32px;\n",
              "    }\n",
              "\n",
              "    .colab-df-convert:hover {\n",
              "      background-color: #E2EBFA;\n",
              "      box-shadow: 0px 1px 2px rgba(60, 64, 67, 0.3), 0px 1px 3px 1px rgba(60, 64, 67, 0.15);\n",
              "      fill: #174EA6;\n",
              "    }\n",
              "\n",
              "    .colab-df-buttons div {\n",
              "      margin-bottom: 4px;\n",
              "    }\n",
              "\n",
              "    [theme=dark] .colab-df-convert {\n",
              "      background-color: #3B4455;\n",
              "      fill: #D2E3FC;\n",
              "    }\n",
              "\n",
              "    [theme=dark] .colab-df-convert:hover {\n",
              "      background-color: #434B5C;\n",
              "      box-shadow: 0px 1px 3px 1px rgba(0, 0, 0, 0.15);\n",
              "      filter: drop-shadow(0px 1px 2px rgba(0, 0, 0, 0.3));\n",
              "      fill: #FFFFFF;\n",
              "    }\n",
              "  </style>\n",
              "\n",
              "    <script>\n",
              "      const buttonEl =\n",
              "        document.querySelector('#df-c5ab4510-a1ae-40de-a197-b77005087a39 button.colab-df-convert');\n",
              "      buttonEl.style.display =\n",
              "        google.colab.kernel.accessAllowed ? 'block' : 'none';\n",
              "\n",
              "      async function convertToInteractive(key) {\n",
              "        const element = document.querySelector('#df-c5ab4510-a1ae-40de-a197-b77005087a39');\n",
              "        const dataTable =\n",
              "          await google.colab.kernel.invokeFunction('convertToInteractive',\n",
              "                                                    [key], {});\n",
              "        if (!dataTable) return;\n",
              "\n",
              "        const docLinkHtml = 'Like what you see? Visit the ' +\n",
              "          '<a target=\"_blank\" href=https://colab.research.google.com/notebooks/data_table.ipynb>data table notebook</a>'\n",
              "          + ' to learn more about interactive tables.';\n",
              "        element.innerHTML = '';\n",
              "        dataTable['output_type'] = 'display_data';\n",
              "        await google.colab.output.renderOutput(dataTable, element);\n",
              "        const docLink = document.createElement('div');\n",
              "        docLink.innerHTML = docLinkHtml;\n",
              "        element.appendChild(docLink);\n",
              "      }\n",
              "    </script>\n",
              "  </div>\n",
              "\n",
              "\n",
              "<div id=\"df-679c41f3-b6f0-47a6-ad1e-b3d1f2c37129\">\n",
              "  <button class=\"colab-df-quickchart\" onclick=\"quickchart('df-679c41f3-b6f0-47a6-ad1e-b3d1f2c37129')\"\n",
              "            title=\"Suggest charts\"\n",
              "            style=\"display:none;\">\n",
              "\n",
              "<svg xmlns=\"http://www.w3.org/2000/svg\" height=\"24px\"viewBox=\"0 0 24 24\"\n",
              "     width=\"24px\">\n",
              "    <g>\n",
              "        <path d=\"M19 3H5c-1.1 0-2 .9-2 2v14c0 1.1.9 2 2 2h14c1.1 0 2-.9 2-2V5c0-1.1-.9-2-2-2zM9 17H7v-7h2v7zm4 0h-2V7h2v10zm4 0h-2v-4h2v4z\"/>\n",
              "    </g>\n",
              "</svg>\n",
              "  </button>\n",
              "\n",
              "<style>\n",
              "  .colab-df-quickchart {\n",
              "      --bg-color: #E8F0FE;\n",
              "      --fill-color: #1967D2;\n",
              "      --hover-bg-color: #E2EBFA;\n",
              "      --hover-fill-color: #174EA6;\n",
              "      --disabled-fill-color: #AAA;\n",
              "      --disabled-bg-color: #DDD;\n",
              "  }\n",
              "\n",
              "  [theme=dark] .colab-df-quickchart {\n",
              "      --bg-color: #3B4455;\n",
              "      --fill-color: #D2E3FC;\n",
              "      --hover-bg-color: #434B5C;\n",
              "      --hover-fill-color: #FFFFFF;\n",
              "      --disabled-bg-color: #3B4455;\n",
              "      --disabled-fill-color: #666;\n",
              "  }\n",
              "\n",
              "  .colab-df-quickchart {\n",
              "    background-color: var(--bg-color);\n",
              "    border: none;\n",
              "    border-radius: 50%;\n",
              "    cursor: pointer;\n",
              "    display: none;\n",
              "    fill: var(--fill-color);\n",
              "    height: 32px;\n",
              "    padding: 0;\n",
              "    width: 32px;\n",
              "  }\n",
              "\n",
              "  .colab-df-quickchart:hover {\n",
              "    background-color: var(--hover-bg-color);\n",
              "    box-shadow: 0 1px 2px rgba(60, 64, 67, 0.3), 0 1px 3px 1px rgba(60, 64, 67, 0.15);\n",
              "    fill: var(--button-hover-fill-color);\n",
              "  }\n",
              "\n",
              "  .colab-df-quickchart-complete:disabled,\n",
              "  .colab-df-quickchart-complete:disabled:hover {\n",
              "    background-color: var(--disabled-bg-color);\n",
              "    fill: var(--disabled-fill-color);\n",
              "    box-shadow: none;\n",
              "  }\n",
              "\n",
              "  .colab-df-spinner {\n",
              "    border: 2px solid var(--fill-color);\n",
              "    border-color: transparent;\n",
              "    border-bottom-color: var(--fill-color);\n",
              "    animation:\n",
              "      spin 1s steps(1) infinite;\n",
              "  }\n",
              "\n",
              "  @keyframes spin {\n",
              "    0% {\n",
              "      border-color: transparent;\n",
              "      border-bottom-color: var(--fill-color);\n",
              "      border-left-color: var(--fill-color);\n",
              "    }\n",
              "    20% {\n",
              "      border-color: transparent;\n",
              "      border-left-color: var(--fill-color);\n",
              "      border-top-color: var(--fill-color);\n",
              "    }\n",
              "    30% {\n",
              "      border-color: transparent;\n",
              "      border-left-color: var(--fill-color);\n",
              "      border-top-color: var(--fill-color);\n",
              "      border-right-color: var(--fill-color);\n",
              "    }\n",
              "    40% {\n",
              "      border-color: transparent;\n",
              "      border-right-color: var(--fill-color);\n",
              "      border-top-color: var(--fill-color);\n",
              "    }\n",
              "    60% {\n",
              "      border-color: transparent;\n",
              "      border-right-color: var(--fill-color);\n",
              "    }\n",
              "    80% {\n",
              "      border-color: transparent;\n",
              "      border-right-color: var(--fill-color);\n",
              "      border-bottom-color: var(--fill-color);\n",
              "    }\n",
              "    90% {\n",
              "      border-color: transparent;\n",
              "      border-bottom-color: var(--fill-color);\n",
              "    }\n",
              "  }\n",
              "</style>\n",
              "\n",
              "  <script>\n",
              "    async function quickchart(key) {\n",
              "      const quickchartButtonEl =\n",
              "        document.querySelector('#' + key + ' button');\n",
              "      quickchartButtonEl.disabled = true;  // To prevent multiple clicks.\n",
              "      quickchartButtonEl.classList.add('colab-df-spinner');\n",
              "      try {\n",
              "        const charts = await google.colab.kernel.invokeFunction(\n",
              "            'suggestCharts', [key], {});\n",
              "      } catch (error) {\n",
              "        console.error('Error during call to suggestCharts:', error);\n",
              "      }\n",
              "      quickchartButtonEl.classList.remove('colab-df-spinner');\n",
              "      quickchartButtonEl.classList.add('colab-df-quickchart-complete');\n",
              "    }\n",
              "    (() => {\n",
              "      let quickchartButtonEl =\n",
              "        document.querySelector('#df-679c41f3-b6f0-47a6-ad1e-b3d1f2c37129 button');\n",
              "      quickchartButtonEl.style.display =\n",
              "        google.colab.kernel.accessAllowed ? 'block' : 'none';\n",
              "    })();\n",
              "  </script>\n",
              "</div>\n",
              "\n",
              "    </div>\n",
              "  </div>\n"
            ],
            "application/vnd.google.colaboratory.intrinsic+json": {
              "type": "dataframe"
            }
          },
          "metadata": {},
          "execution_count": 6
        }
      ]
    },
    {
      "cell_type": "markdown",
      "source": [
        "**Checking the shape of the dataset**"
      ],
      "metadata": {
        "id": "SGrlkZoVnjtm"
      }
    },
    {
      "cell_type": "code",
      "source": [
        "df.shape"
      ],
      "metadata": {
        "colab": {
          "base_uri": "https://localhost:8080/"
        },
        "id": "9vF-vT29noT8",
        "outputId": "00fa47a0-2bdd-4598-c9c4-a6dacc0320d5"
      },
      "execution_count": null,
      "outputs": [
        {
          "output_type": "execute_result",
          "data": {
            "text/plain": [
              "(1085, 26)"
            ]
          },
          "metadata": {},
          "execution_count": 8
        }
      ]
    },
    {
      "cell_type": "markdown",
      "source": [
        "**Checking the columns of the dataset**"
      ],
      "metadata": {
        "id": "pcuImIHrq-HO"
      }
    },
    {
      "cell_type": "code",
      "source": [
        "df.columns"
      ],
      "metadata": {
        "colab": {
          "base_uri": "https://localhost:8080/"
        },
        "id": "PB-_YecIrE_n",
        "outputId": "8e9efea7-21bf-4eac-acee-3a24f7f04f02"
      },
      "execution_count": null,
      "outputs": [
        {
          "output_type": "execute_result",
          "data": {
            "text/plain": [
              "Index(['Series Name', 'Series Code', 'Country Name', 'Country Code', '2022',\n",
              "       '2021', '2020', '2019', '2018', '2017', '2016', '2015', '2014', '2013',\n",
              "       '2012', '2011', '2010', '2009', '2008', '2007', '2006', '2005', '2004',\n",
              "       '2003', '2002', '2001'],\n",
              "      dtype='object')"
            ]
          },
          "metadata": {},
          "execution_count": 9
        }
      ]
    },
    {
      "cell_type": "markdown",
      "source": [
        "**Some information about the dataset**"
      ],
      "metadata": {
        "id": "sgoJmf2-rLud"
      }
    },
    {
      "cell_type": "code",
      "source": [
        "df.info()"
      ],
      "metadata": {
        "colab": {
          "base_uri": "https://localhost:8080/"
        },
        "id": "_brucGo8rNuo",
        "outputId": "30e2e095-5689-4b62-8633-6a42d0499240"
      },
      "execution_count": null,
      "outputs": [
        {
          "output_type": "stream",
          "name": "stdout",
          "text": [
            "<class 'pandas.core.frame.DataFrame'>\n",
            "RangeIndex: 1085 entries, 0 to 1084\n",
            "Data columns (total 26 columns):\n",
            " #   Column        Non-Null Count  Dtype  \n",
            "---  ------        --------------  -----  \n",
            " 0   Series Name   1085 non-null   object \n",
            " 1   Series Code   1085 non-null   object \n",
            " 2   Country Name  1085 non-null   object \n",
            " 3   Country Code  1085 non-null   object \n",
            " 4   2022          1085 non-null   float64\n",
            " 5   2021          1085 non-null   float64\n",
            " 6   2020          1085 non-null   float64\n",
            " 7   2019          1085 non-null   float64\n",
            " 8   2018          1085 non-null   float64\n",
            " 9   2017          1085 non-null   float64\n",
            " 10  2016          1085 non-null   float64\n",
            " 11  2015          1085 non-null   float64\n",
            " 12  2014          1085 non-null   float64\n",
            " 13  2013          1085 non-null   float64\n",
            " 14  2012          1085 non-null   float64\n",
            " 15  2011          1085 non-null   float64\n",
            " 16  2010          1085 non-null   float64\n",
            " 17  2009          1085 non-null   float64\n",
            " 18  2008          1085 non-null   float64\n",
            " 19  2007          1085 non-null   float64\n",
            " 20  2006          1085 non-null   float64\n",
            " 21  2005          1085 non-null   float64\n",
            " 22  2004          1085 non-null   float64\n",
            " 23  2003          1085 non-null   float64\n",
            " 24  2002          1085 non-null   float64\n",
            " 25  2001          1085 non-null   float64\n",
            "dtypes: float64(22), object(4)\n",
            "memory usage: 220.5+ KB\n"
          ]
        }
      ]
    },
    {
      "cell_type": "code",
      "source": [
        "df.describe()"
      ],
      "metadata": {
        "colab": {
          "base_uri": "https://localhost:8080/",
          "height": 349
        },
        "id": "XdGKNLlErVUy",
        "outputId": "68a52970-1d17-47c1-aff0-3aa43b2bd796"
      },
      "execution_count": null,
      "outputs": [
        {
          "output_type": "execute_result",
          "data": {
            "text/plain": [
              "               2022          2021          2020          2019          2018  \\\n",
              "count  1.085000e+03  1.085000e+03  1.085000e+03  1.085000e+03  1.085000e+03   \n",
              "mean   1.461378e+07  1.449711e+07  1.437307e+07  1.422876e+07  1.407966e+07   \n",
              "std    7.832944e+07  7.801505e+07  7.763257e+07  7.712985e+07  7.657562e+07   \n",
              "min    2.749000e+01  2.732503e+01  2.735104e+01  2.676295e+01  2.573928e+01   \n",
              "25%    5.034029e+01  5.035172e+01  5.034171e+01  5.033040e+01  5.033917e+01   \n",
              "50%    1.465500e+05  1.463660e+05  1.461650e+05  1.459570e+05  1.457520e+05   \n",
              "75%    5.903468e+06  5.856733e+06  5.831404e+06  5.814422e+06  5.774185e+06   \n",
              "max    1.417173e+09  1.412360e+09  1.411100e+09  1.407745e+09  1.402760e+09   \n",
              "\n",
              "               2017          2016          2015          2014          2013  \\\n",
              "count  1.085000e+03  1.085000e+03  1.085000e+03  1.085000e+03  1.085000e+03   \n",
              "mean   1.392568e+07  1.376711e+07  1.360705e+07  1.344625e+07  1.328368e+07   \n",
              "std    7.596457e+07  7.528760e+07  7.461740e+07  7.394894e+07  7.325356e+07   \n",
              "min    2.508394e+01  2.464721e+01  2.474106e+01  2.540718e+01  2.594943e+01   \n",
              "25%    5.033041e+01  5.033966e+01  5.033554e+01  5.032504e+01  5.033767e+01   \n",
              "50%    1.441350e+05  1.406060e+05  1.371850e+05  1.349620e+05  1.328960e+05   \n",
              "75%    5.686999e+06  5.629265e+06  5.544490e+06  5.524552e+06  5.480089e+06   \n",
              "max    1.396215e+09  1.387790e+09  1.379860e+09  1.371860e+09  1.363240e+09   \n",
              "\n",
              "       ...          2010          2009          2008          2007  \\\n",
              "count  ...  1.085000e+03  1.085000e+03  1.085000e+03  1.085000e+03   \n",
              "mean   ...  1.280537e+07  1.265031e+07  1.249535e+07  1.234099e+07   \n",
              "std    ...  7.113128e+07  7.047509e+07  6.982016e+07  6.915934e+07   \n",
              "min    ...  2.425072e+01  2.339422e+01  2.356750e+01  2.520779e+01   \n",
              "25%    ...  5.034833e+01  5.036836e+01  5.037388e+01  5.036880e+01   \n",
              "50%    ...  1.263090e+05  1.244660e+05  1.228070e+05  1.209490e+05   \n",
              "75%    ...  5.267970e+06  5.187356e+06  5.100083e+06  5.062560e+06   \n",
              "max    ...  1.337705e+09  1.331260e+09  1.324655e+09  1.317885e+09   \n",
              "\n",
              "               2006          2005          2004          2003          2002  \\\n",
              "count  1.085000e+03  1.085000e+03  1.085000e+03  1.085000e+03  1.085000e+03   \n",
              "mean   1.218858e+07  1.203685e+07  1.188626e+07  1.173626e+07  1.158653e+07   \n",
              "std    6.849229e+07  6.780708e+07  6.710041e+07  6.638386e+07  6.565651e+07   \n",
              "min    2.831990e+01  3.096426e+01  3.129133e+01  3.137472e+01  3.146521e+01   \n",
              "25%    5.038085e+01  5.037186e+01  5.036210e+01  5.039432e+01  5.039371e+01   \n",
              "50%    1.190890e+05  1.171330e+05  1.152950e+05  1.136960e+05  1.134500e+05   \n",
              "75%    5.007301e+06  4.989584e+06  4.813244e+06  4.758988e+06  4.698968e+06   \n",
              "max    1.311020e+09  1.303720e+09  1.296075e+09  1.288400e+09  1.280400e+09   \n",
              "\n",
              "               2001  \n",
              "count  1.085000e+03  \n",
              "mean   1.143598e+07  \n",
              "std    6.490862e+07  \n",
              "min    3.156689e+01  \n",
              "25%    5.038254e+01  \n",
              "50%    1.136410e+05  \n",
              "75%    4.535518e+06  \n",
              "max    1.271850e+09  \n",
              "\n",
              "[8 rows x 22 columns]"
            ],
            "text/html": [
              "\n",
              "  <div id=\"df-f4832f61-2418-40f0-9b0a-8433be0e1b4c\" class=\"colab-df-container\">\n",
              "    <div>\n",
              "<style scoped>\n",
              "    .dataframe tbody tr th:only-of-type {\n",
              "        vertical-align: middle;\n",
              "    }\n",
              "\n",
              "    .dataframe tbody tr th {\n",
              "        vertical-align: top;\n",
              "    }\n",
              "\n",
              "    .dataframe thead th {\n",
              "        text-align: right;\n",
              "    }\n",
              "</style>\n",
              "<table border=\"1\" class=\"dataframe\">\n",
              "  <thead>\n",
              "    <tr style=\"text-align: right;\">\n",
              "      <th></th>\n",
              "      <th>2022</th>\n",
              "      <th>2021</th>\n",
              "      <th>2020</th>\n",
              "      <th>2019</th>\n",
              "      <th>2018</th>\n",
              "      <th>2017</th>\n",
              "      <th>2016</th>\n",
              "      <th>2015</th>\n",
              "      <th>2014</th>\n",
              "      <th>2013</th>\n",
              "      <th>...</th>\n",
              "      <th>2010</th>\n",
              "      <th>2009</th>\n",
              "      <th>2008</th>\n",
              "      <th>2007</th>\n",
              "      <th>2006</th>\n",
              "      <th>2005</th>\n",
              "      <th>2004</th>\n",
              "      <th>2003</th>\n",
              "      <th>2002</th>\n",
              "      <th>2001</th>\n",
              "    </tr>\n",
              "  </thead>\n",
              "  <tbody>\n",
              "    <tr>\n",
              "      <th>count</th>\n",
              "      <td>1.085000e+03</td>\n",
              "      <td>1.085000e+03</td>\n",
              "      <td>1.085000e+03</td>\n",
              "      <td>1.085000e+03</td>\n",
              "      <td>1.085000e+03</td>\n",
              "      <td>1.085000e+03</td>\n",
              "      <td>1.085000e+03</td>\n",
              "      <td>1.085000e+03</td>\n",
              "      <td>1.085000e+03</td>\n",
              "      <td>1.085000e+03</td>\n",
              "      <td>...</td>\n",
              "      <td>1.085000e+03</td>\n",
              "      <td>1.085000e+03</td>\n",
              "      <td>1.085000e+03</td>\n",
              "      <td>1.085000e+03</td>\n",
              "      <td>1.085000e+03</td>\n",
              "      <td>1.085000e+03</td>\n",
              "      <td>1.085000e+03</td>\n",
              "      <td>1.085000e+03</td>\n",
              "      <td>1.085000e+03</td>\n",
              "      <td>1.085000e+03</td>\n",
              "    </tr>\n",
              "    <tr>\n",
              "      <th>mean</th>\n",
              "      <td>1.461378e+07</td>\n",
              "      <td>1.449711e+07</td>\n",
              "      <td>1.437307e+07</td>\n",
              "      <td>1.422876e+07</td>\n",
              "      <td>1.407966e+07</td>\n",
              "      <td>1.392568e+07</td>\n",
              "      <td>1.376711e+07</td>\n",
              "      <td>1.360705e+07</td>\n",
              "      <td>1.344625e+07</td>\n",
              "      <td>1.328368e+07</td>\n",
              "      <td>...</td>\n",
              "      <td>1.280537e+07</td>\n",
              "      <td>1.265031e+07</td>\n",
              "      <td>1.249535e+07</td>\n",
              "      <td>1.234099e+07</td>\n",
              "      <td>1.218858e+07</td>\n",
              "      <td>1.203685e+07</td>\n",
              "      <td>1.188626e+07</td>\n",
              "      <td>1.173626e+07</td>\n",
              "      <td>1.158653e+07</td>\n",
              "      <td>1.143598e+07</td>\n",
              "    </tr>\n",
              "    <tr>\n",
              "      <th>std</th>\n",
              "      <td>7.832944e+07</td>\n",
              "      <td>7.801505e+07</td>\n",
              "      <td>7.763257e+07</td>\n",
              "      <td>7.712985e+07</td>\n",
              "      <td>7.657562e+07</td>\n",
              "      <td>7.596457e+07</td>\n",
              "      <td>7.528760e+07</td>\n",
              "      <td>7.461740e+07</td>\n",
              "      <td>7.394894e+07</td>\n",
              "      <td>7.325356e+07</td>\n",
              "      <td>...</td>\n",
              "      <td>7.113128e+07</td>\n",
              "      <td>7.047509e+07</td>\n",
              "      <td>6.982016e+07</td>\n",
              "      <td>6.915934e+07</td>\n",
              "      <td>6.849229e+07</td>\n",
              "      <td>6.780708e+07</td>\n",
              "      <td>6.710041e+07</td>\n",
              "      <td>6.638386e+07</td>\n",
              "      <td>6.565651e+07</td>\n",
              "      <td>6.490862e+07</td>\n",
              "    </tr>\n",
              "    <tr>\n",
              "      <th>min</th>\n",
              "      <td>2.749000e+01</td>\n",
              "      <td>2.732503e+01</td>\n",
              "      <td>2.735104e+01</td>\n",
              "      <td>2.676295e+01</td>\n",
              "      <td>2.573928e+01</td>\n",
              "      <td>2.508394e+01</td>\n",
              "      <td>2.464721e+01</td>\n",
              "      <td>2.474106e+01</td>\n",
              "      <td>2.540718e+01</td>\n",
              "      <td>2.594943e+01</td>\n",
              "      <td>...</td>\n",
              "      <td>2.425072e+01</td>\n",
              "      <td>2.339422e+01</td>\n",
              "      <td>2.356750e+01</td>\n",
              "      <td>2.520779e+01</td>\n",
              "      <td>2.831990e+01</td>\n",
              "      <td>3.096426e+01</td>\n",
              "      <td>3.129133e+01</td>\n",
              "      <td>3.137472e+01</td>\n",
              "      <td>3.146521e+01</td>\n",
              "      <td>3.156689e+01</td>\n",
              "    </tr>\n",
              "    <tr>\n",
              "      <th>25%</th>\n",
              "      <td>5.034029e+01</td>\n",
              "      <td>5.035172e+01</td>\n",
              "      <td>5.034171e+01</td>\n",
              "      <td>5.033040e+01</td>\n",
              "      <td>5.033917e+01</td>\n",
              "      <td>5.033041e+01</td>\n",
              "      <td>5.033966e+01</td>\n",
              "      <td>5.033554e+01</td>\n",
              "      <td>5.032504e+01</td>\n",
              "      <td>5.033767e+01</td>\n",
              "      <td>...</td>\n",
              "      <td>5.034833e+01</td>\n",
              "      <td>5.036836e+01</td>\n",
              "      <td>5.037388e+01</td>\n",
              "      <td>5.036880e+01</td>\n",
              "      <td>5.038085e+01</td>\n",
              "      <td>5.037186e+01</td>\n",
              "      <td>5.036210e+01</td>\n",
              "      <td>5.039432e+01</td>\n",
              "      <td>5.039371e+01</td>\n",
              "      <td>5.038254e+01</td>\n",
              "    </tr>\n",
              "    <tr>\n",
              "      <th>50%</th>\n",
              "      <td>1.465500e+05</td>\n",
              "      <td>1.463660e+05</td>\n",
              "      <td>1.461650e+05</td>\n",
              "      <td>1.459570e+05</td>\n",
              "      <td>1.457520e+05</td>\n",
              "      <td>1.441350e+05</td>\n",
              "      <td>1.406060e+05</td>\n",
              "      <td>1.371850e+05</td>\n",
              "      <td>1.349620e+05</td>\n",
              "      <td>1.328960e+05</td>\n",
              "      <td>...</td>\n",
              "      <td>1.263090e+05</td>\n",
              "      <td>1.244660e+05</td>\n",
              "      <td>1.228070e+05</td>\n",
              "      <td>1.209490e+05</td>\n",
              "      <td>1.190890e+05</td>\n",
              "      <td>1.171330e+05</td>\n",
              "      <td>1.152950e+05</td>\n",
              "      <td>1.136960e+05</td>\n",
              "      <td>1.134500e+05</td>\n",
              "      <td>1.136410e+05</td>\n",
              "    </tr>\n",
              "    <tr>\n",
              "      <th>75%</th>\n",
              "      <td>5.903468e+06</td>\n",
              "      <td>5.856733e+06</td>\n",
              "      <td>5.831404e+06</td>\n",
              "      <td>5.814422e+06</td>\n",
              "      <td>5.774185e+06</td>\n",
              "      <td>5.686999e+06</td>\n",
              "      <td>5.629265e+06</td>\n",
              "      <td>5.544490e+06</td>\n",
              "      <td>5.524552e+06</td>\n",
              "      <td>5.480089e+06</td>\n",
              "      <td>...</td>\n",
              "      <td>5.267970e+06</td>\n",
              "      <td>5.187356e+06</td>\n",
              "      <td>5.100083e+06</td>\n",
              "      <td>5.062560e+06</td>\n",
              "      <td>5.007301e+06</td>\n",
              "      <td>4.989584e+06</td>\n",
              "      <td>4.813244e+06</td>\n",
              "      <td>4.758988e+06</td>\n",
              "      <td>4.698968e+06</td>\n",
              "      <td>4.535518e+06</td>\n",
              "    </tr>\n",
              "    <tr>\n",
              "      <th>max</th>\n",
              "      <td>1.417173e+09</td>\n",
              "      <td>1.412360e+09</td>\n",
              "      <td>1.411100e+09</td>\n",
              "      <td>1.407745e+09</td>\n",
              "      <td>1.402760e+09</td>\n",
              "      <td>1.396215e+09</td>\n",
              "      <td>1.387790e+09</td>\n",
              "      <td>1.379860e+09</td>\n",
              "      <td>1.371860e+09</td>\n",
              "      <td>1.363240e+09</td>\n",
              "      <td>...</td>\n",
              "      <td>1.337705e+09</td>\n",
              "      <td>1.331260e+09</td>\n",
              "      <td>1.324655e+09</td>\n",
              "      <td>1.317885e+09</td>\n",
              "      <td>1.311020e+09</td>\n",
              "      <td>1.303720e+09</td>\n",
              "      <td>1.296075e+09</td>\n",
              "      <td>1.288400e+09</td>\n",
              "      <td>1.280400e+09</td>\n",
              "      <td>1.271850e+09</td>\n",
              "    </tr>\n",
              "  </tbody>\n",
              "</table>\n",
              "<p>8 rows × 22 columns</p>\n",
              "</div>\n",
              "    <div class=\"colab-df-buttons\">\n",
              "\n",
              "  <div class=\"colab-df-container\">\n",
              "    <button class=\"colab-df-convert\" onclick=\"convertToInteractive('df-f4832f61-2418-40f0-9b0a-8433be0e1b4c')\"\n",
              "            title=\"Convert this dataframe to an interactive table.\"\n",
              "            style=\"display:none;\">\n",
              "\n",
              "  <svg xmlns=\"http://www.w3.org/2000/svg\" height=\"24px\" viewBox=\"0 -960 960 960\">\n",
              "    <path d=\"M120-120v-720h720v720H120Zm60-500h600v-160H180v160Zm220 220h160v-160H400v160Zm0 220h160v-160H400v160ZM180-400h160v-160H180v160Zm440 0h160v-160H620v160ZM180-180h160v-160H180v160Zm440 0h160v-160H620v160Z\"/>\n",
              "  </svg>\n",
              "    </button>\n",
              "\n",
              "  <style>\n",
              "    .colab-df-container {\n",
              "      display:flex;\n",
              "      gap: 12px;\n",
              "    }\n",
              "\n",
              "    .colab-df-convert {\n",
              "      background-color: #E8F0FE;\n",
              "      border: none;\n",
              "      border-radius: 50%;\n",
              "      cursor: pointer;\n",
              "      display: none;\n",
              "      fill: #1967D2;\n",
              "      height: 32px;\n",
              "      padding: 0 0 0 0;\n",
              "      width: 32px;\n",
              "    }\n",
              "\n",
              "    .colab-df-convert:hover {\n",
              "      background-color: #E2EBFA;\n",
              "      box-shadow: 0px 1px 2px rgba(60, 64, 67, 0.3), 0px 1px 3px 1px rgba(60, 64, 67, 0.15);\n",
              "      fill: #174EA6;\n",
              "    }\n",
              "\n",
              "    .colab-df-buttons div {\n",
              "      margin-bottom: 4px;\n",
              "    }\n",
              "\n",
              "    [theme=dark] .colab-df-convert {\n",
              "      background-color: #3B4455;\n",
              "      fill: #D2E3FC;\n",
              "    }\n",
              "\n",
              "    [theme=dark] .colab-df-convert:hover {\n",
              "      background-color: #434B5C;\n",
              "      box-shadow: 0px 1px 3px 1px rgba(0, 0, 0, 0.15);\n",
              "      filter: drop-shadow(0px 1px 2px rgba(0, 0, 0, 0.3));\n",
              "      fill: #FFFFFF;\n",
              "    }\n",
              "  </style>\n",
              "\n",
              "    <script>\n",
              "      const buttonEl =\n",
              "        document.querySelector('#df-f4832f61-2418-40f0-9b0a-8433be0e1b4c button.colab-df-convert');\n",
              "      buttonEl.style.display =\n",
              "        google.colab.kernel.accessAllowed ? 'block' : 'none';\n",
              "\n",
              "      async function convertToInteractive(key) {\n",
              "        const element = document.querySelector('#df-f4832f61-2418-40f0-9b0a-8433be0e1b4c');\n",
              "        const dataTable =\n",
              "          await google.colab.kernel.invokeFunction('convertToInteractive',\n",
              "                                                    [key], {});\n",
              "        if (!dataTable) return;\n",
              "\n",
              "        const docLinkHtml = 'Like what you see? Visit the ' +\n",
              "          '<a target=\"_blank\" href=https://colab.research.google.com/notebooks/data_table.ipynb>data table notebook</a>'\n",
              "          + ' to learn more about interactive tables.';\n",
              "        element.innerHTML = '';\n",
              "        dataTable['output_type'] = 'display_data';\n",
              "        await google.colab.output.renderOutput(dataTable, element);\n",
              "        const docLink = document.createElement('div');\n",
              "        docLink.innerHTML = docLinkHtml;\n",
              "        element.appendChild(docLink);\n",
              "      }\n",
              "    </script>\n",
              "  </div>\n",
              "\n",
              "\n",
              "<div id=\"df-5557862b-a570-47f8-ab58-0cad5cac585b\">\n",
              "  <button class=\"colab-df-quickchart\" onclick=\"quickchart('df-5557862b-a570-47f8-ab58-0cad5cac585b')\"\n",
              "            title=\"Suggest charts\"\n",
              "            style=\"display:none;\">\n",
              "\n",
              "<svg xmlns=\"http://www.w3.org/2000/svg\" height=\"24px\"viewBox=\"0 0 24 24\"\n",
              "     width=\"24px\">\n",
              "    <g>\n",
              "        <path d=\"M19 3H5c-1.1 0-2 .9-2 2v14c0 1.1.9 2 2 2h14c1.1 0 2-.9 2-2V5c0-1.1-.9-2-2-2zM9 17H7v-7h2v7zm4 0h-2V7h2v10zm4 0h-2v-4h2v4z\"/>\n",
              "    </g>\n",
              "</svg>\n",
              "  </button>\n",
              "\n",
              "<style>\n",
              "  .colab-df-quickchart {\n",
              "      --bg-color: #E8F0FE;\n",
              "      --fill-color: #1967D2;\n",
              "      --hover-bg-color: #E2EBFA;\n",
              "      --hover-fill-color: #174EA6;\n",
              "      --disabled-fill-color: #AAA;\n",
              "      --disabled-bg-color: #DDD;\n",
              "  }\n",
              "\n",
              "  [theme=dark] .colab-df-quickchart {\n",
              "      --bg-color: #3B4455;\n",
              "      --fill-color: #D2E3FC;\n",
              "      --hover-bg-color: #434B5C;\n",
              "      --hover-fill-color: #FFFFFF;\n",
              "      --disabled-bg-color: #3B4455;\n",
              "      --disabled-fill-color: #666;\n",
              "  }\n",
              "\n",
              "  .colab-df-quickchart {\n",
              "    background-color: var(--bg-color);\n",
              "    border: none;\n",
              "    border-radius: 50%;\n",
              "    cursor: pointer;\n",
              "    display: none;\n",
              "    fill: var(--fill-color);\n",
              "    height: 32px;\n",
              "    padding: 0;\n",
              "    width: 32px;\n",
              "  }\n",
              "\n",
              "  .colab-df-quickchart:hover {\n",
              "    background-color: var(--hover-bg-color);\n",
              "    box-shadow: 0 1px 2px rgba(60, 64, 67, 0.3), 0 1px 3px 1px rgba(60, 64, 67, 0.15);\n",
              "    fill: var(--button-hover-fill-color);\n",
              "  }\n",
              "\n",
              "  .colab-df-quickchart-complete:disabled,\n",
              "  .colab-df-quickchart-complete:disabled:hover {\n",
              "    background-color: var(--disabled-bg-color);\n",
              "    fill: var(--disabled-fill-color);\n",
              "    box-shadow: none;\n",
              "  }\n",
              "\n",
              "  .colab-df-spinner {\n",
              "    border: 2px solid var(--fill-color);\n",
              "    border-color: transparent;\n",
              "    border-bottom-color: var(--fill-color);\n",
              "    animation:\n",
              "      spin 1s steps(1) infinite;\n",
              "  }\n",
              "\n",
              "  @keyframes spin {\n",
              "    0% {\n",
              "      border-color: transparent;\n",
              "      border-bottom-color: var(--fill-color);\n",
              "      border-left-color: var(--fill-color);\n",
              "    }\n",
              "    20% {\n",
              "      border-color: transparent;\n",
              "      border-left-color: var(--fill-color);\n",
              "      border-top-color: var(--fill-color);\n",
              "    }\n",
              "    30% {\n",
              "      border-color: transparent;\n",
              "      border-left-color: var(--fill-color);\n",
              "      border-top-color: var(--fill-color);\n",
              "      border-right-color: var(--fill-color);\n",
              "    }\n",
              "    40% {\n",
              "      border-color: transparent;\n",
              "      border-right-color: var(--fill-color);\n",
              "      border-top-color: var(--fill-color);\n",
              "    }\n",
              "    60% {\n",
              "      border-color: transparent;\n",
              "      border-right-color: var(--fill-color);\n",
              "    }\n",
              "    80% {\n",
              "      border-color: transparent;\n",
              "      border-right-color: var(--fill-color);\n",
              "      border-bottom-color: var(--fill-color);\n",
              "    }\n",
              "    90% {\n",
              "      border-color: transparent;\n",
              "      border-bottom-color: var(--fill-color);\n",
              "    }\n",
              "  }\n",
              "</style>\n",
              "\n",
              "  <script>\n",
              "    async function quickchart(key) {\n",
              "      const quickchartButtonEl =\n",
              "        document.querySelector('#' + key + ' button');\n",
              "      quickchartButtonEl.disabled = true;  // To prevent multiple clicks.\n",
              "      quickchartButtonEl.classList.add('colab-df-spinner');\n",
              "      try {\n",
              "        const charts = await google.colab.kernel.invokeFunction(\n",
              "            'suggestCharts', [key], {});\n",
              "      } catch (error) {\n",
              "        console.error('Error during call to suggestCharts:', error);\n",
              "      }\n",
              "      quickchartButtonEl.classList.remove('colab-df-spinner');\n",
              "      quickchartButtonEl.classList.add('colab-df-quickchart-complete');\n",
              "    }\n",
              "    (() => {\n",
              "      let quickchartButtonEl =\n",
              "        document.querySelector('#df-5557862b-a570-47f8-ab58-0cad5cac585b button');\n",
              "      quickchartButtonEl.style.display =\n",
              "        google.colab.kernel.accessAllowed ? 'block' : 'none';\n",
              "    })();\n",
              "  </script>\n",
              "</div>\n",
              "\n",
              "    </div>\n",
              "  </div>\n"
            ],
            "application/vnd.google.colaboratory.intrinsic+json": {
              "type": "dataframe"
            }
          },
          "metadata": {},
          "execution_count": 11
        }
      ]
    },
    {
      "cell_type": "markdown",
      "source": [
        "**Checking for duplicate rows**"
      ],
      "metadata": {
        "id": "2PpvEEz5rcBK"
      }
    },
    {
      "cell_type": "code",
      "source": [
        "df.duplicated().sum()"
      ],
      "metadata": {
        "colab": {
          "base_uri": "https://localhost:8080/"
        },
        "id": "SKgABwYkr0NR",
        "outputId": "54ce7c3e-a180-4fda-d753-a2bef8182729"
      },
      "execution_count": null,
      "outputs": [
        {
          "output_type": "execute_result",
          "data": {
            "text/plain": [
              "0"
            ]
          },
          "metadata": {},
          "execution_count": 12
        }
      ]
    },
    {
      "cell_type": "markdown",
      "source": [
        "**Checking for missing values**"
      ],
      "metadata": {
        "id": "Z29LaL6Jr4_A"
      }
    },
    {
      "cell_type": "code",
      "source": [
        "df.isna().sum()"
      ],
      "metadata": {
        "colab": {
          "base_uri": "https://localhost:8080/"
        },
        "id": "6dQzQ3MWr7dL",
        "outputId": "006a0e9f-141d-4841-a2aa-83d827bd8883"
      },
      "execution_count": null,
      "outputs": [
        {
          "output_type": "execute_result",
          "data": {
            "text/plain": [
              "Series Name     0\n",
              "Series Code     0\n",
              "Country Name    0\n",
              "Country Code    0\n",
              "2022            0\n",
              "2021            0\n",
              "2020            0\n",
              "2019            0\n",
              "2018            0\n",
              "2017            0\n",
              "2016            0\n",
              "2015            0\n",
              "2014            0\n",
              "2013            0\n",
              "2012            0\n",
              "2011            0\n",
              "2010            0\n",
              "2009            0\n",
              "2008            0\n",
              "2007            0\n",
              "2006            0\n",
              "2005            0\n",
              "2004            0\n",
              "2003            0\n",
              "2002            0\n",
              "2001            0\n",
              "dtype: int64"
            ]
          },
          "metadata": {},
          "execution_count": 13
        }
      ]
    },
    {
      "cell_type": "markdown",
      "source": [
        "**Checking unique values for columns**"
      ],
      "metadata": {
        "id": "awMTSBSbtIAL"
      }
    },
    {
      "cell_type": "code",
      "source": [
        "print(df['Country Name'].unique())\n",
        "print(\"\\nTotal no of unique countries:\",df['Country Name'].nunique())"
      ],
      "metadata": {
        "colab": {
          "base_uri": "https://localhost:8080/"
        },
        "id": "Z7nEhNPwtJ29",
        "outputId": "c91c4c9f-1164-405f-9a8d-41418b59cf71"
      },
      "execution_count": null,
      "outputs": [
        {
          "output_type": "stream",
          "name": "stdout",
          "text": [
            "['Afghanistan' 'Albania' 'Algeria' 'American Samoa' 'Andorra' 'Angola'\n",
            " 'Antigua and Barbuda' 'Argentina' 'Armenia' 'Aruba' 'Australia' 'Austria'\n",
            " 'Azerbaijan' 'Bahamas, The' 'Bahrain' 'Bangladesh' 'Barbados' 'Belarus'\n",
            " 'Belgium' 'Belize' 'Benin' 'Bermuda' 'Bhutan' 'Bolivia'\n",
            " 'Bosnia and Herzegovina' 'Botswana' 'Brazil' 'British Virgin Islands'\n",
            " 'Brunei Darussalam' 'Bulgaria' 'Burkina Faso' 'Burundi' 'Cabo Verde'\n",
            " 'Cambodia' 'Cameroon' 'Canada' 'Cayman Islands'\n",
            " 'Central African Republic' 'Chad' 'Channel Islands' 'Chile' 'China'\n",
            " 'Colombia' 'Comoros' 'Congo, Dem. Rep.' 'Congo, Rep.' 'Costa Rica'\n",
            " \"Cote d'Ivoire\" 'Croatia' 'Cuba' 'Curacao' 'Cyprus' 'Czechia' 'Denmark'\n",
            " 'Djibouti' 'Dominica' 'Dominican Republic' 'Ecuador' 'Egypt, Arab Rep.'\n",
            " 'El Salvador' 'Equatorial Guinea' 'Eritrea' 'Estonia' 'Eswatini'\n",
            " 'Ethiopia' 'Faroe Islands' 'Fiji' 'Finland' 'France' 'French Polynesia'\n",
            " 'Gabon' 'Gambia, The' 'Georgia' 'Germany' 'Ghana' 'Gibraltar' 'Greece'\n",
            " 'Greenland' 'Grenada' 'Guam' 'Guatemala' 'Guinea' 'Guinea-Bissau'\n",
            " 'Guyana' 'Haiti' 'Honduras' 'Hong Kong SAR, China' 'Hungary' 'Iceland'\n",
            " 'India' 'Indonesia' 'Iran, Islamic Rep.' 'Iraq' 'Ireland' 'Isle of Man'\n",
            " 'Israel' 'Italy' 'Jamaica' 'Japan' 'Jordan' 'Kazakhstan' 'Kenya'\n",
            " 'Kiribati' \"Korea, Dem. People's Rep.\" 'Korea, Rep.' 'Kosovo' 'Kuwait'\n",
            " 'Kyrgyz Republic' 'Lao PDR' 'Latvia' 'Lebanon' 'Lesotho' 'Liberia'\n",
            " 'Libya' 'Liechtenstein' 'Lithuania' 'Luxembourg' 'Macao SAR, China'\n",
            " 'Madagascar' 'Malawi' 'Malaysia' 'Maldives' 'Mali' 'Malta'\n",
            " 'Marshall Islands' 'Mauritania' 'Mauritius' 'Mexico'\n",
            " 'Micronesia, Fed. Sts.' 'Moldova' 'Monaco' 'Mongolia' 'Montenegro'\n",
            " 'Morocco' 'Mozambique' 'Myanmar' 'Namibia' 'Nauru' 'Nepal' 'Netherlands'\n",
            " 'New Caledonia' 'New Zealand' 'Nicaragua' 'Niger' 'Nigeria'\n",
            " 'North Macedonia' 'Northern Mariana Islands' 'Norway' 'Oman' 'Pakistan'\n",
            " 'Palau' 'Panama' 'Papua New Guinea' 'Paraguay' 'Peru' 'Philippines'\n",
            " 'Poland' 'Portugal' 'Puerto Rico' 'Qatar' 'Romania' 'Russian Federation'\n",
            " 'Rwanda' 'Samoa' 'San Marino' 'Sao Tome and Principe' 'Saudi Arabia'\n",
            " 'Senegal' 'Serbia' 'Seychelles' 'Sierra Leone' 'Singapore'\n",
            " 'Sint Maarten (Dutch part)' 'Slovak Republic' 'Slovenia'\n",
            " 'Solomon Islands' 'Somalia' 'South Africa' 'South Sudan' 'Spain'\n",
            " 'Sri Lanka' 'St. Kitts and Nevis' 'St. Lucia' 'St. Martin (French part)'\n",
            " 'St. Vincent and the Grenadines' 'Sudan' 'Suriname' 'Sweden'\n",
            " 'Switzerland' 'Syrian Arab Republic' 'Tajikistan' 'Tanzania' 'Thailand'\n",
            " 'Timor-Leste' 'Togo' 'Tonga' 'Trinidad and Tobago' 'Tunisia' 'Turkiye'\n",
            " 'Turkmenistan' 'Turks and Caicos Islands' 'Tuvalu' 'Uganda' 'Ukraine'\n",
            " 'United Arab Emirates' 'United Kingdom' 'United States' 'Uruguay'\n",
            " 'Uzbekistan' 'Vanuatu' 'Venezuela, RB' 'Vietnam' 'Virgin Islands (U.S.)'\n",
            " 'West Bank and Gaza' 'Yemen, Rep.' 'Zambia' 'Zimbabwe']\n",
            "\n",
            "Total no of unique countries: 217\n"
          ]
        }
      ]
    },
    {
      "cell_type": "code",
      "source": [
        "print(df['Country Code'].unique())\n",
        "print(\"\\nTotal no of unique country code:\",df['Country Code'].nunique())"
      ],
      "metadata": {
        "colab": {
          "base_uri": "https://localhost:8080/"
        },
        "id": "6Mcs3aN1tTiG",
        "outputId": "f0b66897-6e8e-4899-bd35-c85cf9e93f27"
      },
      "execution_count": null,
      "outputs": [
        {
          "output_type": "stream",
          "name": "stdout",
          "text": [
            "['AFG' 'ALB' 'DZA' 'ASM' 'AND' 'AGO' 'ATG' 'ARG' 'ARM' 'ABW' 'AUS' 'AUT'\n",
            " 'AZE' 'BHS' 'BHR' 'BGD' 'BRB' 'BLR' 'BEL' 'BLZ' 'BEN' 'BMU' 'BTN' 'BOL'\n",
            " 'BIH' 'BWA' 'BRA' 'VGB' 'BRN' 'BGR' 'BFA' 'BDI' 'CPV' 'KHM' 'CMR' 'CAN'\n",
            " 'CYM' 'CAF' 'TCD' 'CHI' 'CHL' 'CHN' 'COL' 'COM' 'COD' 'COG' 'CRI' 'CIV'\n",
            " 'HRV' 'CUB' 'CUW' 'CYP' 'CZE' 'DNK' 'DJI' 'DMA' 'DOM' 'ECU' 'EGY' 'SLV'\n",
            " 'GNQ' 'ERI' 'EST' 'SWZ' 'ETH' 'FRO' 'FJI' 'FIN' 'FRA' 'PYF' 'GAB' 'GMB'\n",
            " 'GEO' 'DEU' 'GHA' 'GIB' 'GRC' 'GRL' 'GRD' 'GUM' 'GTM' 'GIN' 'GNB' 'GUY'\n",
            " 'HTI' 'HND' 'HKG' 'HUN' 'ISL' 'IND' 'IDN' 'IRN' 'IRQ' 'IRL' 'IMN' 'ISR'\n",
            " 'ITA' 'JAM' 'JPN' 'JOR' 'KAZ' 'KEN' 'KIR' 'PRK' 'KOR' 'XKX' 'KWT' 'KGZ'\n",
            " 'LAO' 'LVA' 'LBN' 'LSO' 'LBR' 'LBY' 'LIE' 'LTU' 'LUX' 'MAC' 'MDG' 'MWI'\n",
            " 'MYS' 'MDV' 'MLI' 'MLT' 'MHL' 'MRT' 'MUS' 'MEX' 'FSM' 'MDA' 'MCO' 'MNG'\n",
            " 'MNE' 'MAR' 'MOZ' 'MMR' 'NAM' 'NRU' 'NPL' 'NLD' 'NCL' 'NZL' 'NIC' 'NER'\n",
            " 'NGA' 'MKD' 'MNP' 'NOR' 'OMN' 'PAK' 'PLW' 'PAN' 'PNG' 'PRY' 'PER' 'PHL'\n",
            " 'POL' 'PRT' 'PRI' 'QAT' 'ROU' 'RUS' 'RWA' 'WSM' 'SMR' 'STP' 'SAU' 'SEN'\n",
            " 'SRB' 'SYC' 'SLE' 'SGP' 'SXM' 'SVK' 'SVN' 'SLB' 'SOM' 'ZAF' 'SSD' 'ESP'\n",
            " 'LKA' 'KNA' 'LCA' 'MAF' 'VCT' 'SDN' 'SUR' 'SWE' 'CHE' 'SYR' 'TJK' 'TZA'\n",
            " 'THA' 'TLS' 'TGO' 'TON' 'TTO' 'TUN' 'TUR' 'TKM' 'TCA' 'TUV' 'UGA' 'UKR'\n",
            " 'ARE' 'GBR' 'USA' 'URY' 'UZB' 'VUT' 'VEN' 'VNM' 'VIR' 'PSE' 'YEM' 'ZMB'\n",
            " 'ZWE']\n",
            "\n",
            "Total no of unique country code: 217\n"
          ]
        }
      ]
    },
    {
      "cell_type": "code",
      "source": [
        "df['Series Name'].unique()"
      ],
      "metadata": {
        "colab": {
          "base_uri": "https://localhost:8080/"
        },
        "id": "IxmJlit6uvx0",
        "outputId": "d17572df-22d1-4211-c249-3a52af561d65"
      },
      "execution_count": null,
      "outputs": [
        {
          "output_type": "execute_result",
          "data": {
            "text/plain": [
              "array(['Population, total', 'Population, female', 'Population, male',\n",
              "       'Population, female (% of total population)',\n",
              "       'Population, male (% of total population)'], dtype=object)"
            ]
          },
          "metadata": {},
          "execution_count": 16
        }
      ]
    },
    {
      "cell_type": "code",
      "source": [
        "df['Series Code'].unique()"
      ],
      "metadata": {
        "colab": {
          "base_uri": "https://localhost:8080/"
        },
        "id": "DHctOeRKuzyh",
        "outputId": "8054af3f-b65d-4c26-e08b-e8e7eda1ca81"
      },
      "execution_count": null,
      "outputs": [
        {
          "output_type": "execute_result",
          "data": {
            "text/plain": [
              "array(['SP.POP.TOTL', 'SP.POP.TOTL.FE.IN', 'SP.POP.TOTL.MA.IN',\n",
              "       'SP.POP.TOTL.FE.ZS', 'SP.POP.TOTL.MA.ZS'], dtype=object)"
            ]
          },
          "metadata": {},
          "execution_count": 17
        }
      ]
    },
    {
      "cell_type": "markdown",
      "source": [
        "**Dropping unnecessary columns**"
      ],
      "metadata": {
        "id": "81uOwwdzu7d-"
      }
    },
    {
      "cell_type": "code",
      "source": [
        "df.drop(['Series Name','Country Code'],axis=1,inplace=True)"
      ],
      "metadata": {
        "id": "go_pWdq0u-yU"
      },
      "execution_count": null,
      "outputs": []
    },
    {
      "cell_type": "code",
      "source": [
        "df.columns"
      ],
      "metadata": {
        "colab": {
          "base_uri": "https://localhost:8080/"
        },
        "id": "kHNvCarrvFEM",
        "outputId": "7f5b2a99-a5b1-45be-ac15-db5897b0a551"
      },
      "execution_count": null,
      "outputs": [
        {
          "output_type": "execute_result",
          "data": {
            "text/plain": [
              "Index(['Series Code', 'Country Name', '2022', '2021', '2020', '2019', '2018',\n",
              "       '2017', '2016', '2015', '2014', '2013', '2012', '2011', '2010', '2009',\n",
              "       '2008', '2007', '2006', '2005', '2004', '2003', '2002', '2001'],\n",
              "      dtype='object')"
            ]
          },
          "metadata": {},
          "execution_count": 19
        }
      ]
    },
    {
      "cell_type": "markdown",
      "source": [
        "**Extraction of top-10 countries with respect to total population**"
      ],
      "metadata": {
        "id": "J2PRnI_wvPvS"
      }
    },
    {
      "cell_type": "code",
      "source": [
        "# Filter data for total population\n",
        "total_population_data = df[df['Series Code'] == 'SP.POP.TOTL']\n",
        "\n",
        "# Sort data based on the total population for 2022\n",
        "total_population_sorted = total_population_data.sort_values(by=\"2022\", ascending=False)\n",
        "\n",
        "# Get the top ten countries with the highest total population for 2022\n",
        "total_top_ten_countries = total_population_sorted.head(10)\n",
        "print(\"Top ten countries of total population\\n\")\n",
        "print(total_top_ten_countries[['Country Name']] )"
      ],
      "metadata": {
        "colab": {
          "base_uri": "https://localhost:8080/"
        },
        "id": "SW4QHcz4vV5U",
        "outputId": "b8d05c15-78ad-4976-9f31-a97aabeab16f"
      },
      "execution_count": null,
      "outputs": [
        {
          "output_type": "stream",
          "name": "stdout",
          "text": [
            "Top ten countries of total population\n",
            "\n",
            "           Country Name\n",
            "89                India\n",
            "41                China\n",
            "206       United States\n",
            "90            Indonesia\n",
            "149            Pakistan\n",
            "144             Nigeria\n",
            "26               Brazil\n",
            "15           Bangladesh\n",
            "161  Russian Federation\n",
            "127              Mexico\n"
          ]
        }
      ]
    },
    {
      "cell_type": "markdown",
      "source": [
        "**BAR PLOT**"
      ],
      "metadata": {
        "id": "GrI4U2h5vh9q"
      }
    },
    {
      "cell_type": "markdown",
      "source": [
        "**Top ten countries of total population in year 2022 and 2016**"
      ],
      "metadata": {
        "id": "CRplApY8vlJ2"
      }
    },
    {
      "cell_type": "code",
      "source": [
        "# Create the bar plot\n",
        "plt.figure(figsize=(15, 6))\n",
        "plt.subplot(2,2,1)\n",
        "sns.barplot(x=\"2022\", y=\"Country Name\", data=total_top_ten_countries, palette=\"coolwarm\")\n",
        "plt.title(\"Top Ten Countries of Total Population (2022)\",fontsize=10)\n",
        "plt.xlabel(\"Total Population\",fontsize=10)\n",
        "plt.ylabel(\"Country\",fontsize=10)\n",
        "plt.show()\n",
        "\n",
        "plt.figure(figsize=(15, 6))\n",
        "plt.subplot(2,2,2)\n",
        "sns.barplot(x=\"2016\", y=\"Country Name\", data=total_top_ten_countries, palette=\"coolwarm\")\n",
        "plt.title(\"Top Ten Countries with Total Population (2016)\",fontsize=10)\n",
        "plt.xlabel(\"Total Population\",fontsize=10)\n",
        "plt.ylabel(\"Country\",fontsize=10)\n",
        "plt.show()"
      ],
      "metadata": {
        "colab": {
          "base_uri": "https://localhost:8080/",
          "height": 795
        },
        "id": "0OKT8aTkvwYN",
        "outputId": "68fda3c7-2e0b-4428-e97b-96336f29d7c4"
      },
      "execution_count": null,
      "outputs": [
        {
          "output_type": "stream",
          "name": "stderr",
          "text": [
            "<ipython-input-21-9210998d7f61>:4: FutureWarning: \n",
            "\n",
            "Passing `palette` without assigning `hue` is deprecated and will be removed in v0.14.0. Assign the `y` variable to `hue` and set `legend=False` for the same effect.\n",
            "\n",
            "  sns.barplot(x=\"2022\", y=\"Country Name\", data=total_top_ten_countries, palette=\"coolwarm\")\n"
          ]
        },
        {
          "output_type": "display_data",
          "data": {
            "text/plain": [
              "<Figure size 1500x600 with 1 Axes>"
            ],
            "image/png": "[encoded data removed]"
          },
          "metadata": {}
        },
        {
          "output_type": "stream",
          "name": "stderr",
          "text": [
            "<ipython-input-21-9210998d7f61>:12: FutureWarning: \n",
            "\n",
            "Passing `palette` without assigning `hue` is deprecated and will be removed in v0.14.0. Assign the `y` variable to `hue` and set `legend=False` for the same effect.\n",
            "\n",
            "  sns.barplot(x=\"2016\", y=\"Country Name\", data=total_top_ten_countries, palette=\"coolwarm\")\n"
          ]
        },
        {
          "output_type": "display_data",
          "data": {
            "text/plain": [
              "<Figure size 1500x600 with 1 Axes>"
            ],
            "image/png": "[encoded data removed]"
          },
          "metadata": {}
        }
      ]
    },
    {
      "cell_type": "markdown",
      "source": [
        "**Top ten countries of total population in year 2010 and 2001**"
      ],
      "metadata": {
        "id": "OkZtv6bvwHzY"
      }
    },
    {
      "cell_type": "code",
      "source": [
        "# Create the bar plot\n",
        "plt.figure(figsize=(15, 6))\n",
        "plt.subplot(2,2,1)\n",
        "sns.barplot(x=\"2010\", y=\"Country Name\", data=total_top_ten_countries, palette=\"coolwarm\")\n",
        "plt.title(\"Top Ten Countries of Total Population (2010)\",fontsize=10)\n",
        "plt.xlabel(\"Total Population\",fontsize=10)\n",
        "plt.ylabel(\"Country\",fontsize=10)\n",
        "plt.show()\n",
        "\n",
        "plt.figure(figsize=(15, 6))\n",
        "plt.subplot(2,2,2)\n",
        "sns.barplot(x=\"2001\", y=\"Country Name\", data=total_top_ten_countries, palette=\"coolwarm\")\n",
        "plt.title(\"Top Ten Countries with Total Population (2001)\",fontsize=10)\n",
        "plt.xlabel(\"Total Population\",fontsize=10)\n",
        "plt.ylabel(\"Country\",fontsize=10)\n",
        "plt.show()"
      ],
      "metadata": {
        "colab": {
          "base_uri": "https://localhost:8080/",
          "height": 795
        },
        "id": "qxe8F5AkwJeQ",
        "outputId": "e1d939e2-6a66-4d9c-c19a-edb1b9263b41"
      },
      "execution_count": null,
      "outputs": [
        {
          "output_type": "stream",
          "name": "stderr",
          "text": [
            "<ipython-input-22-60893502fb75>:4: FutureWarning: \n",
            "\n",
            "Passing `palette` without assigning `hue` is deprecated and will be removed in v0.14.0. Assign the `y` variable to `hue` and set `legend=False` for the same effect.\n",
            "\n",
            "  sns.barplot(x=\"2010\", y=\"Country Name\", data=total_top_ten_countries, palette=\"coolwarm\")\n"
          ]
        },
        {
          "output_type": "display_data",
          "data": {
            "text/plain": [
              "<Figure size 1500x600 with 1 Axes>"
            ],
            "image/png": "[encoded data removed]"
          },
          "metadata": {}
        },
        {
          "output_type": "stream",
          "name": "stderr",
          "text": [
            "<ipython-input-22-60893502fb75>:12: FutureWarning: \n",
            "\n",
            "Passing `palette` without assigning `hue` is deprecated and will be removed in v0.14.0. Assign the `y` variable to `hue` and set `legend=False` for the same effect.\n",
            "\n",
            "  sns.barplot(x=\"2001\", y=\"Country Name\", data=total_top_ten_countries, palette=\"coolwarm\")\n"
          ]
        },
        {
          "output_type": "display_data",
          "data": {
            "text/plain": [
              "<Figure size 1500x600 with 1 Axes>"
            ],
            "image/png": "[encoded data removed]"
          },
          "metadata": {}
        }
      ]
    },
    {
      "cell_type": "markdown",
      "source": [
        "**Extraction of bottom-10 countries with respect to total population**"
      ],
      "metadata": {
        "id": "T9UweXP9xDLR"
      }
    },
    {
      "cell_type": "code",
      "source": [
        "# Sort data based on the total population for 2022\n",
        "total_population_sorted1 = total_population_data.sort_values(by=\"2022\", ascending=True)\n",
        "\n",
        "# Get the bottom ten countries with the highest total population for 2022\n",
        "total_bottom_ten_countries = total_population_sorted1.head(10)\n",
        "print(\"Bottom ten countries of total population\\n\")\n",
        "print(total_bottom_ten_countries[['Country Name']] )"
      ],
      "metadata": {
        "colab": {
          "base_uri": "https://localhost:8080/"
        },
        "id": "VWbwVPFTxL4x",
        "outputId": "5da96bc2-f162-49eb-953b-0efe292d312a"
      },
      "execution_count": null,
      "outputs": [
        {
          "output_type": "stream",
          "name": "stdout",
          "text": [
            "Bottom ten countries of total population\n",
            "\n",
            "                 Country Name\n",
            "201                    Tuvalu\n",
            "137                     Nauru\n",
            "150                     Palau\n",
            "27     British Virgin Islands\n",
            "183  St. Martin (French part)\n",
            "75                  Gibraltar\n",
            "164                San Marino\n",
            "130                    Monaco\n",
            "114             Liechtenstein\n",
            "124          Marshall Islands\n"
          ]
        }
      ]
    },
    {
      "cell_type": "markdown",
      "source": [
        "**Bottom ten countries of total population in year 2022 and 2016**"
      ],
      "metadata": {
        "id": "0rKlXl08xXig"
      }
    },
    {
      "cell_type": "code",
      "source": [
        "# Create the bar plot\n",
        "plt.figure(figsize=(15, 6))\n",
        "plt.subplot(2,2,1)\n",
        "sns.barplot(x=\"2022\", y=\"Country Name\", data=total_bottom_ten_countries, palette=\"coolwarm\")\n",
        "plt.title(\"Top Ten Countries of Total Population (2022)\",fontsize=10)\n",
        "plt.xlabel(\"Total Population\",fontsize=10)\n",
        "plt.ylabel(\"Country\",fontsize=10)\n",
        "plt.show()\n",
        "\n",
        "plt.figure(figsize=(15, 6))\n",
        "plt.subplot(2,2,2)\n",
        "sns.barplot(x=\"2016\", y=\"Country Name\", data=total_bottom_ten_countries, palette=\"coolwarm\")\n",
        "plt.title(\"Top Ten Countries with Total Population (2016)\",fontsize=10)\n",
        "plt.xlabel(\"Total Population\",fontsize=10)\n",
        "plt.ylabel(\"Country\",fontsize=10)\n",
        "plt.show()"
      ],
      "metadata": {
        "colab": {
          "base_uri": "https://localhost:8080/",
          "height": 795
        },
        "id": "Q3in8qgmxeKp",
        "outputId": "93e2cfd4-315e-4a39-9475-dca505fa57ea"
      },
      "execution_count": null,
      "outputs": [
        {
          "output_type": "stream",
          "name": "stderr",
          "text": [
            "<ipython-input-26-0b3e7e41e090>:4: FutureWarning: \n",
            "\n",
            "Passing `palette` without assigning `hue` is deprecated and will be removed in v0.14.0. Assign the `y` variable to `hue` and set `legend=False` for the same effect.\n",
            "\n",
            "  sns.barplot(x=\"2022\", y=\"Country Name\", data=total_bottom_ten_countries, palette=\"coolwarm\")\n"
          ]
        },
        {
          "output_type": "display_data",
          "data": {
            "text/plain": [
              "<Figure size 1500x600 with 1 Axes>"
            ],
            "image/png": "[encoded data removed]"
          },
          "metadata": {}
        },
        {
          "output_type": "stream",
          "name": "stderr",
          "text": [
            "<ipython-input-26-0b3e7e41e090>:12: FutureWarning: \n",
            "\n",
            "Passing `palette` without assigning `hue` is deprecated and will be removed in v0.14.0. Assign the `y` variable to `hue` and set `legend=False` for the same effect.\n",
            "\n",
            "  sns.barplot(x=\"2016\", y=\"Country Name\", data=total_bottom_ten_countries, palette=\"coolwarm\")\n"
          ]
        },
        {
          "output_type": "display_data",
          "data": {
            "text/plain": [
              "<Figure size 1500x600 with 1 Axes>"
            ],
            "image/png": "[encoded data removed]"
          },
          "metadata": {}
        }
      ]
    },
    {
      "cell_type": "markdown",
      "source": [
        "**Bottom ten countries of total population in year 2010 and 2001**"
      ],
      "metadata": {
        "id": "hWNnbwgmxpVR"
      }
    },
    {
      "cell_type": "code",
      "source": [
        "# Create the bar plot\n",
        "plt.figure(figsize=(15, 6))\n",
        "plt.subplot(2,2,1)\n",
        "sns.barplot(x=\"2010\", y=\"Country Name\", data=total_bottom_ten_countries, palette=\"coolwarm\")\n",
        "plt.title(\"Top Ten Countries of Total Population (2010)\",fontsize=10)\n",
        "plt.xlabel(\"Total Population\",fontsize=10)\n",
        "plt.ylabel(\"Country\",fontsize=10)\n",
        "plt.show()\n",
        "\n",
        "plt.figure(figsize=(15, 6))\n",
        "plt.subplot(2,2,2)\n",
        "sns.barplot(x=\"2001\", y=\"Country Name\", data=total_bottom_ten_countries, palette=\"coolwarm\")\n",
        "plt.title(\"Top Ten Countries with Total Population (2001)\",fontsize=10)\n",
        "plt.xlabel(\"Total Population\",fontsize=10)\n",
        "plt.ylabel(\"Country\",fontsize=10)\n",
        "plt.show()"
      ],
      "metadata": {
        "colab": {
          "base_uri": "https://localhost:8080/",
          "height": 795
        },
        "id": "k7SUT3hExq1p",
        "outputId": "2b26583b-1b05-4dda-ccbe-76d99760ca07"
      },
      "execution_count": null,
      "outputs": [
        {
          "output_type": "stream",
          "name": "stderr",
          "text": [
            "<ipython-input-28-c0f764cef1a8>:4: FutureWarning: \n",
            "\n",
            "Passing `palette` without assigning `hue` is deprecated and will be removed in v0.14.0. Assign the `y` variable to `hue` and set `legend=False` for the same effect.\n",
            "\n",
            "  sns.barplot(x=\"2010\", y=\"Country Name\", data=total_bottom_ten_countries, palette=\"coolwarm\")\n"
          ]
        },
        {
          "output_type": "display_data",
          "data": {
            "text/plain": [
              "<Figure size 1500x600 with 1 Axes>"
            ],
            "image/png": "[encoded data removed]"
          },
          "metadata": {}
        },
        {
          "output_type": "stream",
          "name": "stderr",
          "text": [
            "<ipython-input-28-c0f764cef1a8>:12: FutureWarning: \n",
            "\n",
            "Passing `palette` without assigning `hue` is deprecated and will be removed in v0.14.0. Assign the `y` variable to `hue` and set `legend=False` for the same effect.\n",
            "\n",
            "  sns.barplot(x=\"2001\", y=\"Country Name\", data=total_bottom_ten_countries, palette=\"coolwarm\")\n"
          ]
        },
        {
          "output_type": "display_data",
          "data": {
            "text/plain": [
              "<Figure size 1500x600 with 1 Axes>"
            ],
            "image/png": "[encoded data removed]"
          },
          "metadata": {}
        }
      ]
    }
  ]
}